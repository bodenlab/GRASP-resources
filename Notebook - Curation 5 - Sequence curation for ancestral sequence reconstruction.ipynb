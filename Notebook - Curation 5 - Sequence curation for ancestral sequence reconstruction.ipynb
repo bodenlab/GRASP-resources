{
 "cells": [
  {
   "cell_type": "code",
   "execution_count": null,
   "metadata": {
    "collapsed": true
   },
   "outputs": [],
   "source": [
    "import utilities\n",
    "import fasta\n",
    "import alignment\n",
    "import alignment_curation\n",
    "import glob"
   ]
  },
  {
   "cell_type": "markdown",
   "metadata": {},
   "source": [
    "## Load the files in"
   ]
  },
  {
   "cell_type": "code",
   "execution_count": null,
   "metadata": {
    "collapsed": true
   },
   "outputs": [],
   "source": [
    "# Read in and collate all of the FASTA files in a given directory\n",
    "fasta_files = glob.glob(\"Files/*.fasta\")\n",
    "\n",
    "records = utilities.load_sequences(*fasta_files)"
   ]
  },
  {
   "cell_type": "code",
   "execution_count": null,
   "metadata": {},
   "outputs": [],
   "source": [
    "print (\"The total length of the records before cleaning them up is %d \" % len(records))\n"
   ]
  },
  {
   "cell_type": "markdown",
   "metadata": {},
   "source": [
    "## Remove sequences from files "
   ]
  },
  {
   "cell_type": "code",
   "execution_count": null,
   "metadata": {
    "collapsed": true
   },
   "outputs": [],
   "source": [
    "# Only include records > 400 amino acids, with no X characters, and with the Cytochrome P450 motif\n",
    "# Can include a motif here that we wish to ensure sequences have / don't have\n",
    "cytochrome_p450_motif = \"F..G[HRK]..C.G\"\n",
    "\n",
    "\n",
    "records = fasta.subset_records(records=records, length=400, mode='exclude')\n",
    "records = fasta.exclude_character(records, \"X\")\n",
    "records = fasta.subset_on_motif(records, cytochrome_p450_motif)\n",
    "records = fasta.map_dict_to_records(records)\n"
   ]
  },
  {
   "cell_type": "code",
   "execution_count": null,
   "metadata": {},
   "outputs": [],
   "source": [
    "print (\"The total length of CYP2U1 hits after cleaning them up is %d \" % len(records))"
   ]
  },
  {
   "cell_type": "code",
   "execution_count": null,
   "metadata": {
    "collapsed": true
   },
   "outputs": [],
   "source": [
    "# Write the cleaned sequence file to disk\n",
    "\n",
    "fasta.write_fasta(records, \"Files/Output/output.fasta\")"
   ]
  },
  {
   "cell_type": "markdown",
   "metadata": {},
   "source": [
    "## Create a new alignment"
   ]
  },
  {
   "cell_type": "code",
   "execution_count": null,
   "metadata": {
    "collapsed": true
   },
   "outputs": [],
   "source": [
    "# Create an alignment using MAFFT. Can specify if we want to use local (L-ins-I method) and the number of iterations to perform\n",
    "\n",
    "aln = alignment.align_with_mafft(\"Files/Output/output.fasta\", localpair=True)\n",
    "utilities.write_alignment(aln, \"Files/Output/output.aln\")"
   ]
  },
  {
   "cell_type": "markdown",
   "metadata": {},
   "source": [
    "## Now we reduce the alignment down on the basis of internal deletions"
   ]
  },
  {
   "cell_type": "code",
   "execution_count": null,
   "metadata": {},
   "outputs": [],
   "source": [
    "# Define the alignment location on disk, the accepted percent of other columns that have a gap at the same position, the minimum length of the gap that meets the accepted percent condition, and an output location\n",
    "\n",
    "alignment_curation.automated_curation(\"Files/Output/output.aln\", 1, 20, delete_all_candidates=False, outpath=\"Files/Output/curated\")"
   ]
  },
  {
   "cell_type": "code",
   "execution_count": null,
   "metadata": {
    "collapsed": true
   },
   "outputs": [],
   "source": []
  }
 ],
 "metadata": {
  "kernelspec": {
   "display_name": "Python 3",
   "language": "python",
   "name": "python3"
  },
  "language_info": {
   "codemirror_mode": {
    "name": "ipython",
    "version": 3
   },
   "file_extension": ".py",
   "mimetype": "text/x-python",
   "name": "python",
   "nbconvert_exporter": "python",
   "pygments_lexer": "ipython3",
   "version": "3.6.3"
  }
 },
 "nbformat": 4,
 "nbformat_minor": 2
}
