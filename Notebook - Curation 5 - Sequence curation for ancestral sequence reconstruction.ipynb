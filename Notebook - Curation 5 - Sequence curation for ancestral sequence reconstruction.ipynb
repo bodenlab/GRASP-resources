{
 "cells": [
  {
   "cell_type": "code",
   "execution_count": null,
   "metadata": {},
   "outputs": [],
   "source": [
    "import sys\n",
    "sys.path.append('./src/curation')\n",
    "\n",
    "import utilities\n",
    "import fasta\n",
    "import alignment\n",
    "import alignment_curation\n",
    "import glob"
   ]
  },
  {
   "cell_type": "markdown",
   "metadata": {},
   "source": [
    "## Load the files in"
   ]
  },
  {
   "cell_type": "code",
   "execution_count": null,
   "metadata": {},
   "outputs": [],
   "source": [
    "# Read in and collate all of the FASTA files in a given directory\n",
    "fasta_files = glob.glob(\"Files/*.fasta\")\n",
    "\n",
    "records = utilities.load_sequences(*fasta_files)"
   ]
  },
  {
   "cell_type": "code",
   "execution_count": null,
   "metadata": {},
   "outputs": [],
   "source": [
    "print (\"The total length of the records before cleaning them up is %d \" % len(records))\n"
   ]
  },
  {
   "cell_type": "markdown",
   "metadata": {},
   "source": [
    "## Remove sequences from files "
   ]
  },
  {
   "cell_type": "code",
   "execution_count": null,
   "metadata": {},
   "outputs": [],
   "source": [
    "# The Cytochrome P450 motif\n",
    "cytochrome_p450_motif = \"F..G[HRK]..C.G\"\n",
    "\n",
    "# Only include records > 400 amino acids. \n",
    "records = fasta.subset_records(records=records, length=400, mode='exclude')\n",
    "\n",
    "# Ensure no X characters\n",
    "records = fasta.exclude_character(records, \"X\")\n",
    "\n",
    "# Exclude sequences which don't have the motif.\n",
    "records = fasta.subset_on_motif(records, cytochrome_p450_motif)\n",
    "records = fasta.map_dict_to_records(records)\n"
   ]
  },
  {
   "cell_type": "code",
   "execution_count": null,
   "metadata": {},
   "outputs": [],
   "source": [
    "print (\"The total length of CYP2U1 hits after cleaning them up is %d \" % len(records))"
   ]
  },
  {
   "cell_type": "code",
   "execution_count": null,
   "metadata": {},
   "outputs": [],
   "source": [
    "# Write the cleaned sequence file to disk\n",
    "\n",
    "fasta.write_fasta(records, \"Files/Output/output.fasta\")"
   ]
  },
  {
   "cell_type": "markdown",
   "metadata": {},
   "source": [
    "## Create a new alignment"
   ]
  },
  {
   "cell_type": "code",
   "execution_count": null,
   "metadata": {},
   "outputs": [],
   "source": [
    "# Create an alignment using MAFFT. \n",
    "# Can specify if we want to use local (L-ins-I method) and the number of iterations to perform\n",
    "\n",
    "aln = alignment.align_with_mafft(\"Files/Output/output.fasta\", localpair=True)\n",
    "utilities.write_alignment(aln, \"Files/Output/output.aln\") #Writing out the alignment"
   ]
  },
  {
   "cell_type": "markdown",
   "metadata": {},
   "source": [
    "## Now we reduce the alignment down on the basis of internal deletions"
   ]
  },
  {
   "cell_type": "code",
   "execution_count": null,
   "metadata": {},
   "outputs": [],
   "source": [
    "alignment_curation.automated_curation(\"Files/Output/output.aln\", #alignment location on disk\n",
    "                                      1, #accepted percent of other columns that have a gap at the same position\n",
    "                                      20, #minimum length of the gap that meets the accepted percent condition\n",
    "                                      delete_all_candidates=False, \n",
    "                                      outpath=\"Files/Output/curated\") #output location"
   ]
  },
  {
   "cell_type": "code",
   "execution_count": null,
   "metadata": {},
   "outputs": [],
   "source": []
  },
  {
   "cell_type": "code",
   "execution_count": null,
   "metadata": {},
   "outputs": [],
   "source": []
  }
 ],
 "metadata": {
  "kernelspec": {
   "display_name": "Python 3",
   "language": "python",
   "name": "python3"
  },
  "language_info": {
   "codemirror_mode": {
    "name": "ipython",
    "version": 3
   },
   "file_extension": ".py",
   "mimetype": "text/x-python",
   "name": "python",
   "nbconvert_exporter": "python",
   "pygments_lexer": "ipython3",
   "version": "3.6.10"
  }
 },
 "nbformat": 4,
 "nbformat_minor": 2
}
