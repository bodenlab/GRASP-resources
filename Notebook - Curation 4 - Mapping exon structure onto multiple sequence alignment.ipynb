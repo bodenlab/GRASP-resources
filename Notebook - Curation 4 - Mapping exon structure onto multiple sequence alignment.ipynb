{
 "cells": [
  {
   "cell_type": "code",
   "execution_count": 1,
   "metadata": {},
   "outputs": [
    {
     "data": {
      "text/html": [
       "<style>.container { width:100% !important; }</style>"
      ],
      "text/plain": [
       "<IPython.core.display.HTML object>"
      ]
     },
     "metadata": {},
     "output_type": "display_data"
    }
   ],
   "source": [
    "import utilities\n",
    "import fasta\n",
    "import exons\n",
    "from Bio import SeqIO\n",
    "# Change the width of the \n",
    "from IPython.core.display import display, HTML\n",
    "display(HTML(\"<style>.container { width:100% !important; }</style>\"))"
   ]
  },
  {
   "cell_type": "markdown",
   "metadata": {},
   "source": [
    "## Define the path on disk where the alignment we want to map exon structure to is sitting"
   ]
  },
  {
   "cell_type": "code",
   "execution_count": 2,
   "metadata": {
    "collapsed": true
   },
   "outputs": [],
   "source": [
    "# Load in the file and define a filepath that we'll save the object into, and filepaths we'll save the output and skipped records into (csv files) \n",
    "aln = utilities.load_sequences(\"Files/Exons/exon_small.aln\") \n",
    "object_path = \"Files/Exons/Objects/output.obj\"\n",
    "out_path = \"Files/Exons/exon_records.csv\"\n",
    "skip_path = \"Files/Exons/skipped_records.csv\""
   ]
  },
  {
   "cell_type": "markdown",
   "metadata": {},
   "source": [
    "## If this is the first time reading in this alignment we can save the object to the filepath (so that next time we don't have to go online to pull the exon structure)"
   ]
  },
  {
   "cell_type": "code",
   "execution_count": null,
   "metadata": {
    "collapsed": true
   },
   "outputs": [],
   "source": [
    "# Save the files \n",
    "exons.save_genomic_records(aln, object_path, skipped_records_path=skip_path)"
   ]
  },
  {
   "cell_type": "markdown",
   "metadata": {},
   "source": [
    "## Otherwise if we previously saved the exon structure we can just open the object from the filepath and visualise the exon structure"
   ]
  },
  {
   "cell_type": "code",
   "execution_count": 3,
   "metadata": {},
   "outputs": [
    {
     "name": "stdout",
     "output_type": "stream",
     "text": [
      "writing to  Files/Exons/exon_records.csv\n"
     ]
    }
   ],
   "source": [
    "# Open the file\n",
    "exon_records = exons.open_genomic_records(object_path)\n",
    "if exon_records:\n",
    "    exons.write_exon_counts_to_csv(exon_records, out_path)\n",
    "    exon_array = exons.get_exon_array(exon_records)"
   ]
  },
  {
   "cell_type": "code",
   "execution_count": 4,
   "metadata": {},
   "outputs": [
    {
     "name": "stdout",
     "output_type": "stream",
     "text": [
      "\u001b[1;25;4mCAG11477.1 \u001b[1;35;4mPPGPKPWPVVGNFGGFLIPSVIRR-----RFGPEAD--GSSKNAASVLTELAKLYGPVYSIYAGRQLIVILNGYKVVKEALSSHPEVFSDRPDIPAISIMTKRKGIVFAPYGPVWREHRKFCHTTLRSFGLGRLSLEPCIMDG\u001b[1;34;4mLSNVKTELLRLDAESGGTGVNPAPVISNAVSNVICSLVLGHRFDHRDQEFRSMLRLMDRGLEICVNSPAVLINVFPLLYHLPFGVFSELRQVERDITAFLKRFIANHLETLDPDNPRDLTDMYLME-ISARRA-AGEVDGGFTEDYLFYIIGDLFIAGTDTTANSVLWIILYMASFPDIQDKVQAEIDEVVGTLRTPSLSDKGKLPFTEAAIMEVQRLT\u001b[1;32;4mAVVPLAIPHMTSETIEFGGYTIPKGTVVLPNLWSVHRDPNEWDDPDSFDPTRFL\u001b[1;33;4mDEAGKLLRKECFIPFGIGRRVCMGEQLAKMELFLTTTTLLQAFEVRLPEGVPAPPL\u001b[1;37;4mHGRFGLTLAPCPYTVCINPR\n",
      "\u001b[1;25;4mKTF87224.1 \u001b[1;35;4mPPGPKPWPIVGNFGVFLVPSFILR-----RLAKNRKMISNPLSPQAGLMEMSKLYGNIFSIFVGPQLMVVLTGYDTVRDAMVNHPEVFSDRPHIPLVTIITKRKGIVFAPYGPLWRTNRKFCHSTLRSFGFGKLSLEPCIYEGLTMIKTELQ\u001b[1;34;4mILIEKAGPSGIDLTPLISNAVSNVISSMSLGQRFHHQDQEFRTMLDLMSHGLEISVNTSILLVNVFPWLYYLPCGVFKELRRAEIDITAFLKKIIMRHRATLDPENPRDFIDMYLVEMLSQQKS-ENSELSLFSEDDLFYIIGDLFIAGTDTTTNSVLWSILYMSLYPDVQEKVQQEIDAVVGSERVPSLTDKGNLPYTEATIMEVQRMTVVVPLSIPH\u001b[1;32;4mMASETTEFRGYTIPKGTVIIPNLWSVHRDPTVWENPDDFNPGRFLDEQGKLLRK\u001b[1;33;4mDCFIPFGIGRRVCMGEQLAKMELFLMFTSLMQAFTFRLPEGKSAPSMHGRFGLTLA\u001b[1;37;4mPCPFTVCVKAR\n",
      "\u001b[1;25;4mEFB16740.1 --\u001b[1;35;4mGPTPWPVVGNFGFVLLPPFLRRKSWLHRRARAAGMEPSALGPQLLLADLARVYGNVFSFFIGHYLVVVLSDFHSVREALVQQAEIFSDRPRVPLVSLVTKEK\u001b[1;34;4mGIVFAHYGPVWRQQRKFSHSTLRHFGLGKLSLEPKIIEEFKYVKEEMQ----KHGENPFDPFPIVNNAVSNIICSLCFGQRFDYTNSEFKKMLNLMSRALEICLNTQLLLVNICSWLYYLPFGPFKELRQIEKDITTFLKKIIKDHRESLDVENPQDFIDMYLLH---VEEERKNNSNSSFNEDYLFYIIGDLFIAGTDTTTNSLLWCLLYMSLNPDIQ\u001b[1;32;4mEKVQEEIERVIGADRVPSLTDKARMPYTEATIMEVQRLTVVVPLAIPHMTSEKT\u001b[1;33;4mVLQGYTIPKGTVVLPNLWSVHRDPAIWEKPDDFYPNRFLDDQGQLIKKETFIPFGI\u001b[1;37;4mGKRVCMGEQLAKMELFLMFVSLMQSFTFALPEDSKKPLLTGRYGLTLAPHPFSIIISKR\n",
      "\u001b[1;25;4mKFW75712.1 -------------------------------------------------\u001b[1;35;4mSLTKMYGSVFRLFVGSRPFIVLNTFEAVREALVQKAEVFSDRPSVPIVLMITHNK\u001b[1;34;4mGVIFAPYGPVWKQQRKFSLSTLRHFGVGRHSLEPKIIEELNFIKEEML----KHGKDSFNPFPIIRNAVSNVICSMAFGKRFNYEDVEFKTMLKNMARALELSVNSYMILVNICPWLYYLPFGPFRELRQTELDITAFLKKIIAQHRDTLDAANPRDFIDMYFIH---AEEE-KNNKESSFNDDYLFFIIGDLFIAGTDTTSNTILWCLLYMSLYPEVQ\u001b[1;32;4mEKVHAEVEAVLGRDKVPSLAHKAQMPFTEATIMEVQRMTAVVPLSIPRMASETA\u001b[1;33;4mVLQGYTIPKGSVIVPNLWSVHRDPNIWEKPDEFQPSRFLDENGQLIKKESFIPFGM\u001b[1;37;4mGKRVCMGEQLAKMELFLIFTSLMQSFTFLYPENAAKPSMEGRFGLTLAPCPFNIIALKR\n",
      "[]\n"
     ]
    }
   ],
   "source": [
    "# Map the exon boundaries to the alignment \n",
    "exons.map_exon_boundaries_to_alignment(aln, exon_records)"
   ]
  },
  {
   "cell_type": "code",
   "execution_count": null,
   "metadata": {
    "collapsed": true
   },
   "outputs": [],
   "source": []
  }
 ],
 "metadata": {
  "kernelspec": {
   "display_name": "Python 3",
   "language": "python",
   "name": "python3"
  },
  "language_info": {
   "codemirror_mode": {
    "name": "ipython",
    "version": 3
   },
   "file_extension": ".py",
   "mimetype": "text/x-python",
   "name": "python",
   "nbconvert_exporter": "python",
   "pygments_lexer": "ipython3",
   "version": "3.6.3"
  }
 },
 "nbformat": 4,
 "nbformat_minor": 2
}
