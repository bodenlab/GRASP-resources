{
 "cells": [
  {
   "cell_type": "code",
   "execution_count": null,
   "metadata": {},
   "outputs": [],
   "source": [
    "import sys\n",
    "sys.path.append('./src/curation')\n",
    "\n",
    "import utilities\n",
    "import fasta\n",
    "import exons\n",
    "from Bio import SeqIO\n",
    "# Change the width of the \n",
    "from IPython.core.display import display, HTML\n",
    "display(HTML(\"<style>.container { width:100% !important; }</style>\"))"
   ]
  },
  {
   "cell_type": "markdown",
   "metadata": {},
   "source": [
    "## Define the path on disk where the alignment we want to map exon structure to is sitting"
   ]
  },
  {
   "cell_type": "code",
   "execution_count": null,
   "metadata": {},
   "outputs": [],
   "source": [
    "# Load in the file and define a filepath that we'll save the object into, and filepaths we'll save the output and skipped records into (csv files) \n",
    "aln = utilities.load_sequences(\"Files/C_3_Exons/exon_small.aln\") \n",
    "object_path = \"Files/C_3_Exons/Objects/output.obj\"\n",
    "out_path = \"Files/C_3_Exons/exon_records.csv\"\n",
    "skip_path = \"Files/C_3_Exons/skipped_records.csv\""
   ]
  },
  {
   "cell_type": "markdown",
   "metadata": {},
   "source": [
    "## If this is the first time reading in this alignment we can save the object to the filepath (so that next time we don't have to go online to pull the exon structure)"
   ]
  },
  {
   "cell_type": "code",
   "execution_count": null,
   "metadata": {},
   "outputs": [],
   "source": [
    "# Save the files \n",
    "exons.save_genomic_records(aln, object_path, skipped_records_path=skip_path)"
   ]
  },
  {
   "cell_type": "markdown",
   "metadata": {},
   "source": [
    "## Otherwise if we previously saved the exon structure we can just open the object from the filepath and visualise the exon structure"
   ]
  },
  {
   "cell_type": "code",
   "execution_count": null,
   "metadata": {},
   "outputs": [],
   "source": [
    "# Open the file\n",
    "exon_records = exons.open_genomic_records(object_path)\n",
    "if exon_records:\n",
    "    exons.write_exon_counts_to_csv(exon_records, out_path)\n",
    "    exon_array = exons.get_exon_array(exon_records)"
   ]
  },
  {
   "cell_type": "code",
   "execution_count": null,
   "metadata": {},
   "outputs": [],
   "source": [
    "# Map the exon boundaries to the alignment \n",
    "exons.map_exon_boundaries_to_alignment(aln, exon_records)"
   ]
  },
  {
   "cell_type": "code",
   "execution_count": null,
   "metadata": {},
   "outputs": [],
   "source": []
  }
 ],
 "metadata": {
  "kernelspec": {
   "display_name": "Python 3",
   "language": "python",
   "name": "python3"
  },
  "language_info": {
   "codemirror_mode": {
    "name": "ipython",
    "version": 3
   },
   "file_extension": ".py",
   "mimetype": "text/x-python",
   "name": "python",
   "nbconvert_exporter": "python",
   "pygments_lexer": "ipython3",
   "version": "3.6.10"
  }
 },
 "nbformat": 4,
 "nbformat_minor": 2
}
