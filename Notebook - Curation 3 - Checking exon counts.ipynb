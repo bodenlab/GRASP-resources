{
 "cells": [
  {
   "cell_type": "code",
   "execution_count": null,
   "metadata": {
    "collapsed": true
   },
   "outputs": [],
   "source": [
    "import utilities\n",
    "import fasta\n",
    "import exons\n",
    "import glob\n",
    "from Bio import SeqIO\n",
    "import sys"
   ]
  },
  {
   "cell_type": "markdown",
   "metadata": {},
   "source": [
    "## In this notebook we're going to go online and retrieve exon counts for an alignment."
   ]
  },
  {
   "cell_type": "code",
   "execution_count": null,
   "metadata": {
    "collapsed": true
   },
   "outputs": [],
   "source": [
    "working_dir = \"Files/Exons\"\n",
    "file = \"Files/Exons/exon_small.aln\"\n",
    "\n",
    "save_files = True\n",
    "total_counts = {}"
   ]
  },
  {
   "cell_type": "markdown",
   "metadata": {},
   "source": [
    "### Set up a filepath to save the Python object, and a csv file to save any records which we can't find an exon count for"
   ]
  },
  {
   "cell_type": "code",
   "execution_count": null,
   "metadata": {
    "collapsed": true
   },
   "outputs": [],
   "source": [
    "name = file.rsplit(\"/\")[-1].split(\".\")[0]\n",
    "filepath = working_dir + \"/objects/\" + name + \".obj\"\n",
    "skip_path = working_dir + \"/output/\" + name + \"_skipped.csv\""
   ]
  },
  {
   "cell_type": "markdown",
   "metadata": {},
   "source": [
    "### If `save_files` is equal to True, we're going to save the exon information into an object"
   ]
  },
  {
   "cell_type": "code",
   "execution_count": null,
   "metadata": {},
   "outputs": [],
   "source": [
    "print(\"Working on \", name)\n",
    "alignment_file = utilities.load_sequences(file, split_char=\"|\")\n",
    "if save_files:\n",
    "    print(\"Saving to \", filepath)\n",
    "\n",
    "    exons.save_genomic_records(alignment_file, filepath, skipped_records_path=skip_path)"
   ]
  },
  {
   "cell_type": "markdown",
   "metadata": {},
   "source": [
    "### Otherwise we can just load an existing object with existing exon information"
   ]
  },
  {
   "cell_type": "code",
   "execution_count": null,
   "metadata": {},
   "outputs": [],
   "source": [
    "exon_dict = exons.open_genomic_records(filepath)\n",
    "\n",
    "\n",
    "if exon_dict:\n",
    "    exons.write_exon_counts_to_csv(exon_dict, working_dir + \"/output/\" + name + \"_exons.csv\")\n",
    "\n",
    "    exon_array = exons.get_exon_array(exon_dict)\n",
    "    total_counts[name] = exon_array\n",
    "\n",
    "\n",
    "exons.write_exon_totals_to_csv(total_counts, working_dir + \"/output/total_exons.csv\")"
   ]
  },
  {
   "cell_type": "markdown",
   "metadata": {},
   "source": [
    "### Now if we look in Files/Exons/output folder at the exons.csv and total_exons.csv we will see the exon information for this alignment summarised"
   ]
  }
 ],
 "metadata": {
  "kernelspec": {
   "display_name": "Python 3",
   "language": "python",
   "name": "python3"
  },
  "language_info": {
   "codemirror_mode": {
    "name": "ipython",
    "version": 3
   },
   "file_extension": ".py",
   "mimetype": "text/x-python",
   "name": "python",
   "nbconvert_exporter": "python",
   "pygments_lexer": "ipython3",
   "version": "3.6.3"
  }
 },
 "nbformat": 4,
 "nbformat_minor": 2
}
