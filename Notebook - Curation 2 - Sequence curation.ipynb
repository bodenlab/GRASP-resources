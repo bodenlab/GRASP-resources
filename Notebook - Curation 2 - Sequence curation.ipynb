{
 "cells": [
  {
   "cell_type": "code",
   "execution_count": null,
   "metadata": {
    "collapsed": true
   },
   "outputs": [],
   "source": [
    "from fasta import *\n",
    "import alignment\n",
    "import utilities\n",
    "from checkGenome import *\n",
    "from ipywidgets import widgets\n",
    "from ipywidgets import *\n",
    "from traitlets import *\n",
    "from IPython.display import display"
   ]
  },
  {
   "cell_type": "markdown",
   "metadata": {},
   "source": [
    "# Loading the files\n",
    "\n",
    "The first thing we want to do is load in our files. Loading them in this way actually loads them into a dictionary where the keys are the record IDs and the values are the full records."
   ]
  },
  {
   "cell_type": "code",
   "execution_count": null,
   "metadata": {
    "collapsed": true
   },
   "outputs": [],
   "source": [
    "# Read in the FASTA file\n",
    "full_record = utilities.load_sequences(\"files/example_curation.fasta\")"
   ]
  },
  {
   "cell_type": "markdown",
   "metadata": {},
   "source": [
    "#### How many sequences do we have in the full records?"
   ]
  },
  {
   "cell_type": "code",
   "execution_count": null,
   "metadata": {},
   "outputs": [],
   "source": [
    "print (\"The total length of CYP2U1 hits before cleaning them up is %d \\n \" % len(full_record))\n",
    "\n",
    "print (\"And the sequences are\")\n",
    "\n",
    "for seq in full_record.values():\n",
    "    print (seq.description)"
   ]
  },
  {
   "cell_type": "markdown",
   "metadata": {},
   "source": [
    "# Creating subsets of the records\n",
    "### Including / excluding based on header annotations\n",
    "\n",
    "Now the workflow moves to including and excluding certain sequences. `subset_records` allows us to provide a list of terms which we either want or don't want in the header description. We can also give a minimum length for sequences to meet for inclusion.\n",
    "\n",
    "We don't ever alter the original `full_record`, we just create new dictionary objects that are subsets.\n",
    "\n",
    "We can either provide arguments directly to the function or we can pass in a list variable, such as `header_terms`.\n",
    "\n",
    "In the example below `only_2U1_records` is set to only include sequences which have either '2U1' or '2U1-like' in the header. And `filtered_records` will contain the full set of sequences as we are not providing a length minimum (and the default is 0) and we are not passing in `header_terms`."
   ]
  },
  {
   "cell_type": "code",
   "execution_count": null,
   "metadata": {
    "collapsed": true
   },
   "outputs": [],
   "source": [
    "# A blank list to hold terms we want to exclude or include\n",
    "header_terms = []"
   ]
  },
  {
   "cell_type": "code",
   "execution_count": null,
   "metadata": {},
   "outputs": [],
   "source": [
    "only_2U1_records = subset_records(\"2U1\", \"2U1-like\", records=full_record, length=400, mode=\"include\")\n",
    "filtered_records = subset_records(records=full_record)\n",
    "x_removed_records = exclude_character(filtered_records, \"X\")\n",
    "\n",
    "print (\"The number of sequences with either 2U1 or 2U1-like in the header is %s \" % (len(only_2U1_records)))\n",
    "print (\"The number of sequences we've filtered is %s which should be equal to %s\" % (len(filtered_records), len(full_record)))\n",
    "print (\"The number of sequences without X character is %s\" % (len(x_removed_records)))"
   ]
  },
  {
   "cell_type": "markdown",
   "metadata": {},
   "source": [
    "### Try running the previous cell, but use the `mode=\"exclude\"`"
   ]
  },
  {
   "cell_type": "markdown",
   "metadata": {
    "collapsed": true
   },
   "source": [
    "### Adding terms to the `header_terms` variable\n",
    "The following section makes it easy to add in terms to the `header_terms` variable and to save these files for later use.\n",
    "\n",
    "Let's first print out the terms in our variable and the length of it. As you add to the list you can always come back and rerun this cell to peek inside the `header_terms` variable"
   ]
  },
  {
   "cell_type": "code",
   "execution_count": null,
   "metadata": {},
   "outputs": [],
   "source": [
    "print (header_terms)\n",
    "print (len(header_terms))"
   ]
  },
  {
   "cell_type": "markdown",
   "metadata": {},
   "source": [
    "The first thing we might be interested in doing is to print out the header information of the sequences we currently have."
   ]
  },
  {
   "cell_type": "code",
   "execution_count": null,
   "metadata": {},
   "outputs": [],
   "source": [
    "for record in filtered_records:\n",
    "    print (filtered_records[record].description)"
   ]
  },
  {
   "cell_type": "markdown",
   "metadata": {},
   "source": [
    "The cell below will add items to our `header_terms` variable. Hit run on the cell and you'll see an input box - simply add words seperated by a space that you want to add."
   ]
  },
  {
   "cell_type": "code",
   "execution_count": null,
   "metadata": {},
   "outputs": [],
   "source": [
    "add = widgets.Text()\n",
    "display(add)\n",
    "\n",
    "def handle_submit(sender):\n",
    "    for item in add.value.split():\n",
    "        header_terms.append(item)\n",
    "    print (header_terms)\n",
    "add.on_submit(handle_submit)"
   ]
  },
  {
   "cell_type": "markdown",
   "metadata": {},
   "source": [
    "And then we can also remove "
   ]
  },
  {
   "cell_type": "code",
   "execution_count": null,
   "metadata": {},
   "outputs": [],
   "source": [
    "remove = widgets.Text()\n",
    "display(remove)\n",
    "\n",
    "def handle_submit(sender):\n",
    "    for item in remove.value.split():\n",
    "        header_terms.remove(item)\n",
    "    print (header_terms)\n",
    "\n",
    "remove.on_submit(handle_submit)"
   ]
  },
  {
   "cell_type": "markdown",
   "metadata": {},
   "source": [
    "Below is that cell that lets us check all the words in `header_terms` so far."
   ]
  },
  {
   "cell_type": "code",
   "execution_count": null,
   "metadata": {},
   "outputs": [],
   "source": [
    "print (header_terms)\n",
    "print (len(header_terms))"
   ]
  },
  {
   "cell_type": "markdown",
   "metadata": {},
   "source": [
    "Have a play around with adding and removing words to the `header_terms` list and then the following cells illustrate how it can be used.\n",
    "\n",
    "Make the `header_terms` list contain just the terms \"2U1-like\" and \"Xenopus\" and then we'll create a new record called `no_xenopus_records` that doesn't contain any 2U1-like sequences or any Xenopus sequences"
   ]
  },
  {
   "cell_type": "code",
   "execution_count": null,
   "metadata": {},
   "outputs": [],
   "source": [
    "no_xenopus_records = subset_records(*header_terms, records=full_record, mode='exclude')\n",
    "for record in no_xenopus_records:\n",
    "    print (no_xenopus_records[record].description)"
   ]
  },
  {
   "cell_type": "markdown",
   "metadata": {},
   "source": [
    "### Subsetting record files using regular expressions\n",
    "Typing all of the particular items we want to include or exclude can be time-consuming, and often we want to include or exclude all of the members of a family. So we can use regular expressions in `subset_records_with_regex` and only supply the first part of the family name and have it automatically match to all headers that contain text starting with that first part.\n",
    "\n",
    "For example - excluding \"2J\" would exclude \"2J6\", \"2J2\", and \"2J2-like\" (as well as others)"
   ]
  },
  {
   "cell_type": "markdown",
   "metadata": {},
   "source": [
    "# Evaluating how many hits per species\n",
    "\n",
    "`build_species_count` builds a dictionary which has the set of unique species as its keys and a list of the sequence IDs that belong to each unique species as its . So we can use it to easily see how many unique species we have and which species are over represented."
   ]
  },
  {
   "cell_type": "code",
   "execution_count": null,
   "metadata": {},
   "outputs": [],
   "source": [
    "species_counts = build_species_count(records=full_record)\n",
    "print(\"There are %s unique species in our dataset.\" % (len(species_counts)))"
   ]
  },
  {
   "cell_type": "markdown",
   "metadata": {},
   "source": [
    "### Plotting the frequency of proteins per species\n",
    "`plot_record_number` is a function that plots the numbers of IDs per species. We can set a minimum number of IDs that a species must have in order to be plotted."
   ]
  },
  {
   "cell_type": "code",
   "execution_count": null,
   "metadata": {},
   "outputs": [],
   "source": [
    "plotthis = plot_record_number(species_counts, \"Bar\", min_length=3)\n",
    "py.iplot(plotthis, filename='inline_bar')"
   ]
  },
  {
   "cell_type": "code",
   "execution_count": null,
   "metadata": {},
   "outputs": [],
   "source": [
    "plotthis = plot_record_number(species_counts, \"Bar\", min_length=2)\n",
    "py.iplot(plotthis, filename='inline_bar')"
   ]
  },
  {
   "cell_type": "markdown",
   "metadata": {},
   "source": [
    "#### We can also just extract the names using `get_species_name`, which also accepts a minimum number of IDs required and can print out the number of counts per each species"
   ]
  },
  {
   "cell_type": "code",
   "execution_count": null,
   "metadata": {},
   "outputs": [],
   "source": [
    "species_names_with_counts = get_species_names(species_counts, min_length=2, counts=True)\n",
    "for name in species_names_with_counts:\n",
    "    print (name)"
   ]
  },
  {
   "cell_type": "markdown",
   "metadata": {},
   "source": [
    "### Counting the total number of sequences with multiple hits\n",
    "`count_ids` is a function that counts the total number of sequences in a species count dictionary, not just the number of unique species.\n",
    "\n",
    "As before, it can also take a minimum number of IDs required"
   ]
  },
  {
   "cell_type": "code",
   "execution_count": null,
   "metadata": {},
   "outputs": [],
   "source": [
    "min_num = 2\n",
    "print (\"There are %s total sequences in our filtered dataset.\" % (count_ids(species_counts)))\n",
    "print (\"There are %s total sequences in our filtered dataset that have %d or more IDs per species.\" % (count_ids(species_counts, min_length=min_num), min_num))"
   ]
  },
  {
   "cell_type": "markdown",
   "metadata": {},
   "source": [
    "# Saving the records to FASTA files\n",
    "We can use the function `map_list_to_records` which allows for us to select all the records in one of the filtered records objects."
   ]
  },
  {
   "cell_type": "code",
   "execution_count": null,
   "metadata": {
    "scrolled": true
   },
   "outputs": [],
   "source": [
    "filtered_records = map_list_to_records(x_removed_records, full_record)\n",
    "filtered_records_unique = map_list_to_records(x_removed_records, full_record, unique=True)\n",
    "\n",
    "# Check that the numbers are correct\n",
    "print (len(filtered_records))\n"
   ]
  },
  {
   "cell_type": "markdown",
   "metadata": {},
   "source": [
    "And now we can save these records to a new FASTA file using `write_fasta`"
   ]
  },
  {
   "cell_type": "code",
   "execution_count": null,
   "metadata": {
    "collapsed": true
   },
   "outputs": [],
   "source": [
    "write_fasta(filtered_records, \"files/example_curation_x_removed.fasta\")"
   ]
  },
  {
   "cell_type": "markdown",
   "metadata": {},
   "source": [
    "We can also use the function `map_species_to_records` to just map a particular species to a FASTA file."
   ]
  },
  {
   "cell_type": "code",
   "execution_count": null,
   "metadata": {},
   "outputs": [],
   "source": [
    "andrias_davidianus = map_list_to_records(species_counts['Andrias davidianus'], full_record)\n",
    "write_fasta(andrias_davidianus, \"files/andrias_davidianus.fasta\")"
   ]
  },
  {
   "cell_type": "code",
   "execution_count": null,
   "metadata": {
    "collapsed": true
   },
   "outputs": [],
   "source": []
  }
 ],
 "metadata": {
  "kernelspec": {
   "display_name": "Python 3",
   "language": "python",
   "name": "python3"
  },
  "language_info": {
   "codemirror_mode": {
    "name": "ipython",
    "version": 3
   },
   "file_extension": ".py",
   "mimetype": "text/x-python",
   "name": "python",
   "nbconvert_exporter": "python",
   "pygments_lexer": "ipython3",
   "version": "3.6.3"
  }
 },
 "nbformat": 4,
 "nbformat_minor": 2
}
